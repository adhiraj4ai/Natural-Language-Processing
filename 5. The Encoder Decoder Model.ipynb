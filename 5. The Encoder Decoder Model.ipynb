{
 "cells": [
  {
   "attachments": {},
   "cell_type": "markdown",
   "metadata": {},
   "source": [
    "The Encoder and Decoder model is the neural network architecture - discovered in 2014. These types of neural network contains 'Encoder' and 'Decoder' networks. Encoder network takes input and cretes a intermediate vector (called as latent vector or context vector) which is the conceptualized representation or blueprint of inputs. And, decoder network taks intermediate vector as an input and produces the output.\n",
    "\n",
    "<img src = \"Encoder Decoder.png\" height =\"500\"/>\n",
    "\n",
    "In NLP, We use encoder and decoder model  where the input sequences are passed as an input to encoder network and produces an intermediate output called the *context* which is then passed to decoder to generate output of another sequence. For example, in machine translation, input is the text in one language and output is the text in another language.\n",
    "\n",
    "<img src = \"Encoder Decoder - Machine Translation.png\" height =\"500\"/>\n"
   ]
  },
  {
   "attachments": {},
   "cell_type": "markdown",
   "metadata": {},
   "source": [
    "Encoder-Decoder architecture has three components:\n",
    "1. **Encoder:** An encoder accepts input sequence, X, and generates corresponding intermediate vector with conceptualized representation from input data. We can use RNN, LSTM or CNN or their combinations in stack as encoders.\n",
    "2. **Intermediate Vector:** This is the mathematical representation of what has been feeded to the network which conveyes the esseence of the input.\n",
    "3. **Decoder:** A decoder acepts intermediate vector as an input and generates output. Similar to encoder, we can use any kind of neural network for decoder."
   ]
  },
  {
   "attachments": {},
   "cell_type": "markdown",
   "metadata": {},
   "source": [
    "## Encoders with RNN\n",
    "\n",
    "\n",
    "<img src = \"Encoder Decoder with RNN.png\" height =\"500\"/>\n"
   ]
  },
  {
   "cell_type": "code",
   "execution_count": null,
   "metadata": {},
   "outputs": [],
   "source": []
  }
 ],
 "metadata": {
  "language_info": {
   "name": "python"
  },
  "orig_nbformat": 4
 },
 "nbformat": 4,
 "nbformat_minor": 2
}
