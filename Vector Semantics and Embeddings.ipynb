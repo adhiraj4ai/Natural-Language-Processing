{
 "cells": [
  {
   "attachments": {},
   "cell_type": "markdown",
   "metadata": {},
   "source": [
    "# Vector Semantics and Embeddings\n",
    "\n",
    "**Vector Semantics** refers to the meaning of the words where words are represented in the form of vectors. This is the standard way to represent word meaning in NLP.\n",
    "\n",
    "**Embedding** refers to the learned representation for representing words in vector form.\n"
   ]
  },
  {
   "attachments": {},
   "cell_type": "markdown",
   "metadata": {},
   "source": [
    "## TF-IDF (Term Frequency and Term Document Frequency)\n",
    "In ***term Document matrix**, each row represents a word in the vocabulary and each column represent a document (sentence) from the collection. Whereas, each cell in this matrix represents the number of times a particular word occurs in particular document (sentence).\n",
    "\n"
   ]
  },
  {
   "cell_type": "code",
   "execution_count": 1,
   "metadata": {},
   "outputs": [
    {
     "name": "stdout",
     "output_type": "stream",
     "text": [
      "Nepal is a beautiful country. Nepal is small country. Nepal is peaceful country.\n"
     ]
    },
    {
     "name": "stderr",
     "output_type": "stream",
     "text": [
      "'nltk.download' is not recognized as an internal or external command,\n",
      "operable program or batch file.\n"
     ]
    }
   ],
   "source": [
    "import nltk\n",
    "#nltk.download('all')\n",
    "\n",
    "# Para contains a paragraph about nepal\n",
    "paragraph = \"\"\"Nepal is a beautiful country. Nepal is small country. Nepal is peaceful country.\"\"\"\n",
    "\n",
    "print(paragraph)"
   ]
  },
  {
   "cell_type": "code",
   "execution_count": 2,
   "metadata": {},
   "outputs": [
    {
     "name": "stdout",
     "output_type": "stream",
     "text": [
      "nepal is a beautiful country. nepal is small country. nepal is peaceful country.\n"
     ]
    }
   ],
   "source": [
    "import string\n",
    "from nltk import sent_tokenize, word_tokenize\n",
    "\n",
    "#convert to lower case\n",
    "para = paragraph.lower()\n",
    "print(para)"
   ]
  },
  {
   "cell_type": "code",
   "execution_count": 3,
   "metadata": {},
   "outputs": [],
   "source": [
    "# Define Utilities function to handle numbers, punctuations and white space\n",
    "# Import regular expression\n",
    "import re\n",
    "\n",
    "# Define function to remove numbers from the text, if any\n",
    "def remove_numbers(para):\n",
    "    result = re.sub(r'\\d+', '', para)\n",
    "    return result\n",
    "\n",
    "\n",
    "# Define function to remove punctuations from the text\n",
    "def remove_punctuations(para):\n",
    "    translator = str.maketrans('', '', string.punctuation)\n",
    "    return para.translate(translator)\n",
    "\n",
    "\n",
    "# Remove whitespace from text\n",
    "def remove_whitespace(para):\n",
    "    return \" \".join(para.split())"
   ]
  },
  {
   "cell_type": "code",
   "execution_count": 4,
   "metadata": {},
   "outputs": [
    {
     "name": "stdout",
     "output_type": "stream",
     "text": [
      "nepal is a beautiful country. nepal is small country. nepal is peaceful country.\n"
     ]
    }
   ],
   "source": [
    "# Use those utilities to clean numbers, punctuations and whitespaces\n",
    "para = remove_numbers(para)\n",
    "para = remove_whitespace(para)\n",
    "\n",
    "print(para)"
   ]
  },
  {
   "cell_type": "code",
   "execution_count": 5,
   "metadata": {},
   "outputs": [
    {
     "name": "stdout",
     "output_type": "stream",
     "text": [
      "['Nepal is a beautiful country.', 'Nepal is small country.', 'Nepal is peaceful country.']\n"
     ]
    }
   ],
   "source": [
    "# Sentence tokenization for the original paragraph\n",
    "sent_tokens = sent_tokenize(paragraph)\n",
    "print(sent_tokens)"
   ]
  },
  {
   "cell_type": "code",
   "execution_count": 6,
   "metadata": {},
   "outputs": [
    {
     "name": "stdout",
     "output_type": "stream",
     "text": [
      "  (0, 1)\t0.4128585720620119\n",
      "  (0, 0)\t0.6990303272568005\n",
      "  (0, 2)\t0.4128585720620119\n",
      "  (0, 3)\t0.4128585720620119\n",
      "  (1, 5)\t0.6990303272568005\n",
      "  (1, 1)\t0.4128585720620119\n",
      "  (1, 2)\t0.4128585720620119\n",
      "  (1, 3)\t0.4128585720620119\n",
      "  (2, 4)\t0.6990303272568005\n",
      "  (2, 1)\t0.4128585720620119\n",
      "  (2, 2)\t0.4128585720620119\n",
      "  (2, 3)\t0.4128585720620119\n"
     ]
    }
   ],
   "source": [
    "from sklearn.feature_extraction.text import TfidfVectorizer\n",
    "tfidf = TfidfVectorizer()\n",
    "trans = tfidf.fit_transform(sent_tokens)\n",
    "print(trans)"
   ]
  },
  {
   "attachments": {},
   "cell_type": "markdown",
   "metadata": {},
   "source": [
    "This shows that the in (x, y) shown above, x refers to the sentence and x refers to the sentences and y refers to the words."
   ]
  },
  {
   "cell_type": "code",
   "execution_count": 7,
   "metadata": {},
   "outputs": [
    {
     "data": {
      "text/plain": [
       "array(['beautiful', 'country', 'is', 'nepal', 'peaceful', 'small'],\n",
       "      dtype=object)"
      ]
     },
     "execution_count": 7,
     "metadata": {},
     "output_type": "execute_result"
    }
   ],
   "source": [
    "# Get the words used as features\n",
    "tfidf.get_feature_names_out()"
   ]
  },
  {
   "cell_type": "code",
   "execution_count": null,
   "metadata": {},
   "outputs": [],
   "source": []
  }
 ],
 "metadata": {
  "kernelspec": {
   "display_name": "base",
   "language": "python",
   "name": "python3"
  },
  "language_info": {
   "codemirror_mode": {
    "name": "ipython",
    "version": 3
   },
   "file_extension": ".py",
   "mimetype": "text/x-python",
   "name": "python",
   "nbconvert_exporter": "python",
   "pygments_lexer": "ipython3",
   "version": "3.9.16"
  },
  "orig_nbformat": 4
 },
 "nbformat": 4,
 "nbformat_minor": 2
}
